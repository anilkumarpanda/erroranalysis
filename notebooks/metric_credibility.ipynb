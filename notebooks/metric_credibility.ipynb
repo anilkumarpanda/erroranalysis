{
 "cells": [
  {
   "cell_type": "markdown",
   "metadata": {},
   "source": [
    "# AUC Credibility Measure\n",
    "\n",
    "In order to measure the credibility with the Model Validation Toolkit Package, we need the only the following parameters :\n",
    " * The number of positive samples in the dataset.\n",
    " * The number of negative samples in the dataset.\n",
    " * The minimum theshold for AUC"
   ]
  },
  {
   "cell_type": "code",
   "execution_count": 17,
   "metadata": {},
   "outputs": [
    {
     "name": "stdout",
     "output_type": "stream",
     "text": [
      "Probability of ROC-AUC being below 0.75% is : 0.00%\n"
     ]
    }
   ],
   "source": [
    "from mvtk import credibility\n",
    "# Number of positive samples\n",
    "positives = 1539\n",
    "# Number of negative samples\n",
    "negatives = 1420\n",
    "# ROC-AUC of the model\n",
    "roc_auc = 0.79\n",
    "# ROC-AUC cutoff\n",
    "cutoff = 75/100\n",
    "auc_positives, auc_negatives = credibility.roc_auc_preprocess(positives, negatives, roc_auc)\n",
    "prob_below = credibility.prob_below(auc_positives, auc_negatives, cutoff) * 100\n",
    "print(f'Probability of ROC-AUC being below {cutoff}% is : {prob_below:.2f}%')"
   ]
  },
  {
   "cell_type": "code",
   "execution_count": null,
   "metadata": {},
   "outputs": [],
   "source": []
  }
 ],
 "metadata": {
  "interpreter": {
   "hash": "a5b7bd06b5a3e4368dd9531fff5bb5ceb47b896458e87cfaf0764c4d69ca71fa"
  },
  "kernelspec": {
   "display_name": "Python 3.6.2 ('ml_course')",
   "language": "python",
   "name": "python3"
  },
  "language_info": {
   "codemirror_mode": {
    "name": "ipython",
    "version": 3
   },
   "file_extension": ".py",
   "mimetype": "text/x-python",
   "name": "python",
   "nbconvert_exporter": "python",
   "pygments_lexer": "ipython3",
   "version": "3.6.2"
  },
  "orig_nbformat": 4
 },
 "nbformat": 4,
 "nbformat_minor": 2
}
